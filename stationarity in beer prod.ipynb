{
 "cells": [
  {
   "cell_type": "markdown",
   "metadata": {},
   "source": [
    "# DESCRIPTION\n",
    "\n",
    "The Beer production dataset provides a time series data for monthly beer production in Australia, for the period Jan 1956 – Aug 1995.\n",
    "Objective:\n",
    "• Check for the stationarity of your data using Rolling Statistics and Dickey-Fuller test.\n",
    "• If stationarity is present, remove it using differencing in Python."
   ]
  },
  {
   "cell_type": "code",
   "execution_count": 1,
   "metadata": {},
   "outputs": [],
   "source": [
    "import numpy as np\n",
    "import pandas as pd\n",
    "from datetime import datetime as dt\n",
    "from statsmodels.tsa.stattools import adfuller, acf, pacf\n",
    "\n",
    "import math\n",
    "import matplotlib.pyplot as plt\n",
    "%matplotlib inline\n",
    "from matplotlib.pyplot import rcParams\n",
    "rcParams['figure.figsize']= 15,6\n",
    "\n",
    "import warnings\n",
    "warnings.filterwarnings('ignore')"
   ]
  },
  {
   "cell_type": "code",
   "execution_count": 2,
   "metadata": {},
   "outputs": [],
   "source": [
    "data = pd.read_csv('monthly-beer-production-in-austr.csv')"
   ]
  },
  {
   "cell_type": "code",
   "execution_count": 3,
   "metadata": {},
   "outputs": [
    {
     "data": {
      "text/html": [
       "<div>\n",
       "<style scoped>\n",
       "    .dataframe tbody tr th:only-of-type {\n",
       "        vertical-align: middle;\n",
       "    }\n",
       "\n",
       "    .dataframe tbody tr th {\n",
       "        vertical-align: top;\n",
       "    }\n",
       "\n",
       "    .dataframe thead th {\n",
       "        text-align: right;\n",
       "    }\n",
       "</style>\n",
       "<table border=\"1\" class=\"dataframe\">\n",
       "  <thead>\n",
       "    <tr style=\"text-align: right;\">\n",
       "      <th></th>\n",
       "      <th>Month</th>\n",
       "      <th>Monthly beer production in Australia</th>\n",
       "    </tr>\n",
       "  </thead>\n",
       "  <tbody>\n",
       "    <tr>\n",
       "      <th>0</th>\n",
       "      <td>1956-01</td>\n",
       "      <td>93.2</td>\n",
       "    </tr>\n",
       "    <tr>\n",
       "      <th>1</th>\n",
       "      <td>1956-02</td>\n",
       "      <td>96.0</td>\n",
       "    </tr>\n",
       "    <tr>\n",
       "      <th>2</th>\n",
       "      <td>1956-03</td>\n",
       "      <td>95.2</td>\n",
       "    </tr>\n",
       "    <tr>\n",
       "      <th>3</th>\n",
       "      <td>1956-04</td>\n",
       "      <td>77.1</td>\n",
       "    </tr>\n",
       "    <tr>\n",
       "      <th>4</th>\n",
       "      <td>1956-05</td>\n",
       "      <td>70.9</td>\n",
       "    </tr>\n",
       "    <tr>\n",
       "      <th>...</th>\n",
       "      <td>...</td>\n",
       "      <td>...</td>\n",
       "    </tr>\n",
       "    <tr>\n",
       "      <th>471</th>\n",
       "      <td>1995-04</td>\n",
       "      <td>127.0</td>\n",
       "    </tr>\n",
       "    <tr>\n",
       "      <th>472</th>\n",
       "      <td>1995-05</td>\n",
       "      <td>151.0</td>\n",
       "    </tr>\n",
       "    <tr>\n",
       "      <th>473</th>\n",
       "      <td>1995-06</td>\n",
       "      <td>130.0</td>\n",
       "    </tr>\n",
       "    <tr>\n",
       "      <th>474</th>\n",
       "      <td>1995-07</td>\n",
       "      <td>119.0</td>\n",
       "    </tr>\n",
       "    <tr>\n",
       "      <th>475</th>\n",
       "      <td>1995-08</td>\n",
       "      <td>153.0</td>\n",
       "    </tr>\n",
       "  </tbody>\n",
       "</table>\n",
       "<p>476 rows × 2 columns</p>\n",
       "</div>"
      ],
      "text/plain": [
       "       Month  Monthly beer production in Australia\n",
       "0    1956-01                                  93.2\n",
       "1    1956-02                                  96.0\n",
       "2    1956-03                                  95.2\n",
       "3    1956-04                                  77.1\n",
       "4    1956-05                                  70.9\n",
       "..       ...                                   ...\n",
       "471  1995-04                                 127.0\n",
       "472  1995-05                                 151.0\n",
       "473  1995-06                                 130.0\n",
       "474  1995-07                                 119.0\n",
       "475  1995-08                                 153.0\n",
       "\n",
       "[476 rows x 2 columns]"
      ]
     },
     "execution_count": 3,
     "metadata": {},
     "output_type": "execute_result"
    }
   ],
   "source": [
    "data"
   ]
  },
  {
   "cell_type": "code",
   "execution_count": 4,
   "metadata": {},
   "outputs": [
    {
     "name": "stdout",
     "output_type": "stream",
     "text": [
      "<class 'pandas.core.frame.DataFrame'>\n",
      "RangeIndex: 476 entries, 0 to 475\n",
      "Data columns (total 2 columns):\n",
      " #   Column                                Non-Null Count  Dtype  \n",
      "---  ------                                --------------  -----  \n",
      " 0   Month                                 476 non-null    object \n",
      " 1   Monthly beer production in Australia  476 non-null    float64\n",
      "dtypes: float64(1), object(1)\n",
      "memory usage: 7.6+ KB\n"
     ]
    }
   ],
   "source": [
    "data.info()"
   ]
  },
  {
   "cell_type": "code",
   "execution_count": 5,
   "metadata": {},
   "outputs": [],
   "source": [
    "data['Month'] = data['Month'].astype('string')\n",
    "data['Month'] = data['Month'].str[:4]"
   ]
  },
  {
   "cell_type": "code",
   "execution_count": 6,
   "metadata": {},
   "outputs": [
    {
     "data": {
      "text/html": [
       "<div>\n",
       "<style scoped>\n",
       "    .dataframe tbody tr th:only-of-type {\n",
       "        vertical-align: middle;\n",
       "    }\n",
       "\n",
       "    .dataframe tbody tr th {\n",
       "        vertical-align: top;\n",
       "    }\n",
       "\n",
       "    .dataframe thead th {\n",
       "        text-align: right;\n",
       "    }\n",
       "</style>\n",
       "<table border=\"1\" class=\"dataframe\">\n",
       "  <thead>\n",
       "    <tr style=\"text-align: right;\">\n",
       "      <th></th>\n",
       "      <th>Month</th>\n",
       "      <th>Monthly beer production in Australia</th>\n",
       "    </tr>\n",
       "  </thead>\n",
       "  <tbody>\n",
       "    <tr>\n",
       "      <th>0</th>\n",
       "      <td>1956</td>\n",
       "      <td>93.2</td>\n",
       "    </tr>\n",
       "    <tr>\n",
       "      <th>1</th>\n",
       "      <td>1956</td>\n",
       "      <td>96.0</td>\n",
       "    </tr>\n",
       "    <tr>\n",
       "      <th>2</th>\n",
       "      <td>1956</td>\n",
       "      <td>95.2</td>\n",
       "    </tr>\n",
       "    <tr>\n",
       "      <th>3</th>\n",
       "      <td>1956</td>\n",
       "      <td>77.1</td>\n",
       "    </tr>\n",
       "    <tr>\n",
       "      <th>4</th>\n",
       "      <td>1956</td>\n",
       "      <td>70.9</td>\n",
       "    </tr>\n",
       "    <tr>\n",
       "      <th>...</th>\n",
       "      <td>...</td>\n",
       "      <td>...</td>\n",
       "    </tr>\n",
       "    <tr>\n",
       "      <th>471</th>\n",
       "      <td>1995</td>\n",
       "      <td>127.0</td>\n",
       "    </tr>\n",
       "    <tr>\n",
       "      <th>472</th>\n",
       "      <td>1995</td>\n",
       "      <td>151.0</td>\n",
       "    </tr>\n",
       "    <tr>\n",
       "      <th>473</th>\n",
       "      <td>1995</td>\n",
       "      <td>130.0</td>\n",
       "    </tr>\n",
       "    <tr>\n",
       "      <th>474</th>\n",
       "      <td>1995</td>\n",
       "      <td>119.0</td>\n",
       "    </tr>\n",
       "    <tr>\n",
       "      <th>475</th>\n",
       "      <td>1995</td>\n",
       "      <td>153.0</td>\n",
       "    </tr>\n",
       "  </tbody>\n",
       "</table>\n",
       "<p>476 rows × 2 columns</p>\n",
       "</div>"
      ],
      "text/plain": [
       "    Month  Monthly beer production in Australia\n",
       "0    1956                                  93.2\n",
       "1    1956                                  96.0\n",
       "2    1956                                  95.2\n",
       "3    1956                                  77.1\n",
       "4    1956                                  70.9\n",
       "..    ...                                   ...\n",
       "471  1995                                 127.0\n",
       "472  1995                                 151.0\n",
       "473  1995                                 130.0\n",
       "474  1995                                 119.0\n",
       "475  1995                                 153.0\n",
       "\n",
       "[476 rows x 2 columns]"
      ]
     },
     "execution_count": 6,
     "metadata": {},
     "output_type": "execute_result"
    }
   ],
   "source": [
    "data"
   ]
  },
  {
   "cell_type": "code",
   "execution_count": 58,
   "metadata": {},
   "outputs": [
    {
     "data": {
      "text/html": [
       "<div>\n",
       "<style scoped>\n",
       "    .dataframe tbody tr th:only-of-type {\n",
       "        vertical-align: middle;\n",
       "    }\n",
       "\n",
       "    .dataframe tbody tr th {\n",
       "        vertical-align: top;\n",
       "    }\n",
       "\n",
       "    .dataframe thead th {\n",
       "        text-align: right;\n",
       "    }\n",
       "</style>\n",
       "<table border=\"1\" class=\"dataframe\">\n",
       "  <thead>\n",
       "    <tr style=\"text-align: right;\">\n",
       "      <th></th>\n",
       "      <th>Monthly beer production in Australia</th>\n",
       "    </tr>\n",
       "    <tr>\n",
       "      <th>Month</th>\n",
       "      <th></th>\n",
       "    </tr>\n",
       "  </thead>\n",
       "  <tbody>\n",
       "    <tr>\n",
       "      <th>1956</th>\n",
       "      <td>1032.5</td>\n",
       "    </tr>\n",
       "    <tr>\n",
       "      <th>1957</th>\n",
       "      <td>1046.4</td>\n",
       "    </tr>\n",
       "    <tr>\n",
       "      <th>1958</th>\n",
       "      <td>1055.1</td>\n",
       "    </tr>\n",
       "    <tr>\n",
       "      <th>1959</th>\n",
       "      <td>1052.4</td>\n",
       "    </tr>\n",
       "    <tr>\n",
       "      <th>1960</th>\n",
       "      <td>1084.4</td>\n",
       "    </tr>\n",
       "  </tbody>\n",
       "</table>\n",
       "</div>"
      ],
      "text/plain": [
       "       Monthly beer production in Australia\n",
       "Month                                      \n",
       "1956                                 1032.5\n",
       "1957                                 1046.4\n",
       "1958                                 1055.1\n",
       "1959                                 1052.4\n",
       "1960                                 1084.4"
      ]
     },
     "execution_count": 58,
     "metadata": {},
     "output_type": "execute_result"
    }
   ],
   "source": [
    "new_beer = data.groupby(\"Month\")\n",
    "new_df = new_beer.agg(\"sum\")\n",
    "new_df.head()"
   ]
  },
  {
   "cell_type": "code",
   "execution_count": 60,
   "metadata": {},
   "outputs": [
    {
     "data": {
      "text/html": [
       "<div>\n",
       "<style scoped>\n",
       "    .dataframe tbody tr th:only-of-type {\n",
       "        vertical-align: middle;\n",
       "    }\n",
       "\n",
       "    .dataframe tbody tr th {\n",
       "        vertical-align: top;\n",
       "    }\n",
       "\n",
       "    .dataframe thead th {\n",
       "        text-align: right;\n",
       "    }\n",
       "</style>\n",
       "<table border=\"1\" class=\"dataframe\">\n",
       "  <thead>\n",
       "    <tr style=\"text-align: right;\">\n",
       "      <th></th>\n",
       "      <th>Month</th>\n",
       "      <th>Monthly beer production in Australia</th>\n",
       "    </tr>\n",
       "  </thead>\n",
       "  <tbody>\n",
       "    <tr>\n",
       "      <th>0</th>\n",
       "      <td>1956</td>\n",
       "      <td>1032.5</td>\n",
       "    </tr>\n",
       "    <tr>\n",
       "      <th>1</th>\n",
       "      <td>1957</td>\n",
       "      <td>1046.4</td>\n",
       "    </tr>\n",
       "    <tr>\n",
       "      <th>2</th>\n",
       "      <td>1958</td>\n",
       "      <td>1055.1</td>\n",
       "    </tr>\n",
       "    <tr>\n",
       "      <th>3</th>\n",
       "      <td>1959</td>\n",
       "      <td>1052.4</td>\n",
       "    </tr>\n",
       "    <tr>\n",
       "      <th>4</th>\n",
       "      <td>1960</td>\n",
       "      <td>1084.4</td>\n",
       "    </tr>\n",
       "  </tbody>\n",
       "</table>\n",
       "</div>"
      ],
      "text/plain": [
       "  Month  Monthly beer production in Australia\n",
       "0  1956                                1032.5\n",
       "1  1957                                1046.4\n",
       "2  1958                                1055.1\n",
       "3  1959                                1052.4\n",
       "4  1960                                1084.4"
      ]
     },
     "execution_count": 60,
     "metadata": {},
     "output_type": "execute_result"
    }
   ],
   "source": [
    "index = pd.Index(range(0,40,1))\n",
    "new_df.reset_index(drop=False, inplace = True)\n",
    "new_df.head()"
   ]
  },
  {
   "cell_type": "code",
   "execution_count": 61,
   "metadata": {},
   "outputs": [
    {
     "name": "stdout",
     "output_type": "stream",
     "text": [
      "<class 'pandas.core.frame.DataFrame'>\n",
      "RangeIndex: 40 entries, 0 to 39\n",
      "Data columns (total 2 columns):\n",
      " #   Column                                Non-Null Count  Dtype  \n",
      "---  ------                                --------------  -----  \n",
      " 0   Month                                 40 non-null     object \n",
      " 1   Monthly beer production in Australia  40 non-null     float64\n",
      "dtypes: float64(1), object(1)\n",
      "memory usage: 768.0+ bytes\n"
     ]
    }
   ],
   "source": [
    "new_df.info()"
   ]
  },
  {
   "cell_type": "code",
   "execution_count": 62,
   "metadata": {},
   "outputs": [
    {
     "data": {
      "text/html": [
       "<div>\n",
       "<style scoped>\n",
       "    .dataframe tbody tr th:only-of-type {\n",
       "        vertical-align: middle;\n",
       "    }\n",
       "\n",
       "    .dataframe tbody tr th {\n",
       "        vertical-align: top;\n",
       "    }\n",
       "\n",
       "    .dataframe thead th {\n",
       "        text-align: right;\n",
       "    }\n",
       "</style>\n",
       "<table border=\"1\" class=\"dataframe\">\n",
       "  <thead>\n",
       "    <tr style=\"text-align: right;\">\n",
       "      <th></th>\n",
       "      <th>Month</th>\n",
       "      <th>Monthly beer production in Australia</th>\n",
       "    </tr>\n",
       "  </thead>\n",
       "  <tbody>\n",
       "    <tr>\n",
       "      <th>0</th>\n",
       "      <td>1956</td>\n",
       "      <td>1032.5</td>\n",
       "    </tr>\n",
       "    <tr>\n",
       "      <th>1</th>\n",
       "      <td>1957</td>\n",
       "      <td>1046.4</td>\n",
       "    </tr>\n",
       "    <tr>\n",
       "      <th>2</th>\n",
       "      <td>1958</td>\n",
       "      <td>1055.1</td>\n",
       "    </tr>\n",
       "    <tr>\n",
       "      <th>3</th>\n",
       "      <td>1959</td>\n",
       "      <td>1052.4</td>\n",
       "    </tr>\n",
       "    <tr>\n",
       "      <th>4</th>\n",
       "      <td>1960</td>\n",
       "      <td>1084.4</td>\n",
       "    </tr>\n",
       "  </tbody>\n",
       "</table>\n",
       "</div>"
      ],
      "text/plain": [
       "  Month  Monthly beer production in Australia\n",
       "0  1956                                1032.5\n",
       "1  1957                                1046.4\n",
       "2  1958                                1055.1\n",
       "3  1959                                1052.4\n",
       "4  1960                                1084.4"
      ]
     },
     "execution_count": 62,
     "metadata": {},
     "output_type": "execute_result"
    }
   ],
   "source": [
    "new_df.head()"
   ]
  },
  {
   "cell_type": "code",
   "execution_count": 63,
   "metadata": {},
   "outputs": [
    {
     "data": {
      "text/html": [
       "<div>\n",
       "<style scoped>\n",
       "    .dataframe tbody tr th:only-of-type {\n",
       "        vertical-align: middle;\n",
       "    }\n",
       "\n",
       "    .dataframe tbody tr th {\n",
       "        vertical-align: top;\n",
       "    }\n",
       "\n",
       "    .dataframe thead th {\n",
       "        text-align: right;\n",
       "    }\n",
       "</style>\n",
       "<table border=\"1\" class=\"dataframe\">\n",
       "  <thead>\n",
       "    <tr style=\"text-align: right;\">\n",
       "      <th></th>\n",
       "      <th>Month</th>\n",
       "      <th>Monthly beer production in Australia</th>\n",
       "    </tr>\n",
       "  </thead>\n",
       "  <tbody>\n",
       "    <tr>\n",
       "      <th>35</th>\n",
       "      <td>1991</td>\n",
       "      <td>1899.1</td>\n",
       "    </tr>\n",
       "    <tr>\n",
       "      <th>36</th>\n",
       "      <td>1992</td>\n",
       "      <td>1805.0</td>\n",
       "    </tr>\n",
       "    <tr>\n",
       "      <th>37</th>\n",
       "      <td>1993</td>\n",
       "      <td>1775.0</td>\n",
       "    </tr>\n",
       "    <tr>\n",
       "      <th>38</th>\n",
       "      <td>1994</td>\n",
       "      <td>1776.0</td>\n",
       "    </tr>\n",
       "    <tr>\n",
       "      <th>39</th>\n",
       "      <td>1995</td>\n",
       "      <td>1106.0</td>\n",
       "    </tr>\n",
       "  </tbody>\n",
       "</table>\n",
       "</div>"
      ],
      "text/plain": [
       "   Month  Monthly beer production in Australia\n",
       "35  1991                                1899.1\n",
       "36  1992                                1805.0\n",
       "37  1993                                1775.0\n",
       "38  1994                                1776.0\n",
       "39  1995                                1106.0"
      ]
     },
     "execution_count": 63,
     "metadata": {},
     "output_type": "execute_result"
    }
   ],
   "source": [
    "new_df.tail()"
   ]
  },
  {
   "cell_type": "code",
   "execution_count": 66,
   "metadata": {},
   "outputs": [
    {
     "data": {
      "text/plain": [
       "0     1032.5\n",
       "1     1046.4\n",
       "2     1055.1\n",
       "3     1052.4\n",
       "4     1084.4\n",
       "5     1123.7\n",
       "6     1144.4\n",
       "7     1189.4\n",
       "8     1255.8\n",
       "9     1310.6\n",
       "10    1333.8\n",
       "11    1398.6\n",
       "12    1481.2\n",
       "13    1522.0\n",
       "14    1583.6\n",
       "15    1645.0\n",
       "16    1694.8\n",
       "17    1837.7\n",
       "18    1914.9\n",
       "19    1940.2\n",
       "20    1943.7\n",
       "21    1960.7\n",
       "22    1998.3\n",
       "23    1948.2\n",
       "24    1931.1\n",
       "25    2030.9\n",
       "26    1980.7\n",
       "27    1849.6\n",
       "28    1851.1\n",
       "29    1857.1\n",
       "30    1849.6\n",
       "31    1876.6\n",
       "32    1958.0\n",
       "33    1922.5\n",
       "34    1958.5\n",
       "35    1899.1\n",
       "36    1805.0\n",
       "37    1775.0\n",
       "38    1776.0\n",
       "39    1106.0\n",
       "Name: Monthly beer production in Australia, dtype: float64"
      ]
     },
     "execution_count": 66,
     "metadata": {},
     "output_type": "execute_result"
    }
   ],
   "source": [
    "ts = new_df['Monthly beer production in Australia']\n",
    "ts"
   ]
  },
  {
   "cell_type": "code",
   "execution_count": 67,
   "metadata": {},
   "outputs": [
    {
     "data": {
      "image/png": "[encoded data removed]",
      "text/plain": [
       "<Figure size 1080x432 with 1 Axes>"
      ]
     },
     "metadata": {
      "needs_background": "light"
     },
     "output_type": "display_data"
    }
   ],
   "source": [
    "plt.xticks(rotation = 'vertical')\n",
    "plt.plot(new_df.index,ts)\n",
    "plt.show()"
   ]
  },
  {
   "cell_type": "markdown",
   "metadata": {},
   "source": [
    "It is clear from the plot that there is a overall increase in the trend till year 1991 and then it is decreasing and falling drastically by year 1995. Seasonality can also be observed in the above data. So we can conclude that the Time Series has non stationarity."
   ]
  },
  {
   "cell_type": "code",
   "execution_count": 68,
   "metadata": {},
   "outputs": [
    {
     "data": {
      "image/png": "[encoded data removed]",
      "text/plain": [
       "<Figure size 1080x432 with 1 Axes>"
      ]
     },
     "metadata": {
      "needs_background": "light"
     },
     "output_type": "display_data"
    },
    {
     "name": "stdout",
     "output_type": "stream",
     "text": [
      "Results of Dickey-Fuller Test : \n",
      "Test Statistic                 -0.660823\n",
      "p-value                         0.856638\n",
      "#Lags Used                      8.000000\n",
      "Number of Observations Used    31.000000\n",
      "Critical Value (1%)            -3.661429\n",
      "Critical Value (5%)            -2.960525\n",
      "Critical Value (10%)           -2.619319\n",
      "dtype: float64\n"
     ]
    }
   ],
   "source": [
    "# rolling statistics\n",
    "def adf_test(timeseries) :\n",
    "    rolmean = timeseries.rolling(window =52, center = False).mean()\n",
    "    rolstd = timeseries.rolling(window = 52, center = False).std()\n",
    "    #print(rolmean)\n",
    "    #print(rolstd)\n",
    "    orig = plt.plot(timeseries, color = \"blue\", label = 'Original')\n",
    "    mean = plt.plot(rolmean,color = 'red', label = 'Rolling mean')\n",
    "    std = plt.plot(rolstd, color = 'black', label = 'Rolling Std')\n",
    "    plt.xticks(rotation = 'vertical')\n",
    "    plt.legend(loc = 'best')\n",
    "    plt.title(\"Rolling mean and std dev.\")\n",
    "    plt.show()          \n",
    "    \n",
    "    print('Results of Dickey-Fuller Test : ')\n",
    "    dftest = adfuller(timeseries, autolag = 'AIC')\n",
    "    dfoutput = pd.Series(dftest[0:4], index = ['Test Statistic', 'p-value','#Lags Used', 'Number of Observations Used'])\n",
    "    for key, value in dftest[4].items() :\n",
    "        dfoutput['Critical Value (%s) '%key] = value\n",
    "    print(dfoutput)\n",
    "adf_test(new_df['Monthly beer production in Australia'])\n",
    "    \n",
    "    "
   ]
  },
  {
   "cell_type": "code",
   "execution_count": 76,
   "metadata": {},
   "outputs": [
    {
     "name": "stdout",
     "output_type": "stream",
     "text": [
      "0\n",
      "40\n",
      "40\n",
      "[13.900000000000091, 8.699999999999818, -2.699999999999818, 32.0, 39.299999999999955, 20.700000000000045, 44.99999999999977, 66.40000000000032, 54.799999999999955, 23.200000000000045, 64.79999999999995, 82.59999999999991, 40.799999999999955, 61.600000000000136, 61.40000000000009, 49.79999999999973, 142.9000000000001, 77.20000000000005, 25.300000000000182, 3.4999999999997726, 16.999999999999773, 37.600000000000136, -50.09999999999991, -17.100000000000136, 99.80000000000041, -50.200000000000045, -131.10000000000036, 1.5, 6.000000000000227, -7.500000000000227, 27.0, 81.39999999999986, -35.499999999999545, 35.999999999999545, -59.399999999999864, -94.09999999999991, -30.0, 1.0, -670.0]\n",
      "[14351.750000000095, 9103.679999999811, -2848.7699999998076, 33676.8, 42616.919999999955, 23260.59000000005, 51497.999999999745, 78976.16000000037, 68817.83999999995, 30405.920000000064, 86430.23999999995, 115524.35999999988, 60432.959999999934, 93755.2000000002, 97233.04000000015, 81920.99999999956, 242186.92000000016, 141870.4400000001, 48446.97000000035, 6790.69999999956, 33042.89999999956, 73722.32000000025, -100114.82999999981, -33314.22000000026, 192723.78000000078, -101951.18000000011, -259669.77000000075, 2774.3999999999996, 11106.60000000042, -13928.250000000424, 49939.2, 152755.23999999973, -69508.9999999991, 69209.99999999913, -116334.89999999972, -178705.30999999982, -54150.0, 1775.0, -1189920.0]\n"
     ]
    }
   ],
   "source": [
    "# create a differenced series\n",
    "def difference(dataset,ms,me) :\n",
    "    diff = list()\n",
    "    s = ms\n",
    "    n = me\n",
    "    print(n)\n",
    "    for i in range(1, n, 1):\n",
    "        mvalue = dataset[i] - dataset[i-1]\n",
    "        diff.append(mvalue)\n",
    "    return(diff)\n",
    "\n",
    "#invert differenced forecast\n",
    "def inverse_difference(last_ob, value) :\n",
    "    return value * last_ob\n",
    "\n",
    "data = ts\n",
    "s = data.index[0]\n",
    "e = s+40\n",
    "print(s)\n",
    "print(e)\n",
    "diff = difference(data,s,e)\n",
    "print(diff)\n",
    "\n",
    "inverted = [inverse_difference(data[i], diff[i]) for i in range(len(diff))]\n",
    "print(inverted)\n",
    "            \n",
    "\n"
   ]
  },
  {
   "cell_type": "code",
   "execution_count": 79,
   "metadata": {},
   "outputs": [
    {
     "data": {
      "image/png": "[encoded data removed]",
      "text/plain": [
       "<Figure size 1080x432 with 1 Axes>"
      ]
     },
     "metadata": {
      "needs_background": "light"
     },
     "output_type": "display_data"
    },
    {
     "name": "stdout",
     "output_type": "stream",
     "text": [
      "Results of Dickey-Fuller Test : \n",
      "Test Statistic                  0.471933\n",
      "p-value                         0.983995\n",
      "#Lags Used                      7.000000\n",
      "Number of Observations Used    31.000000\n",
      "Critical Value (1%)            -3.661429\n",
      "Critical Value (5%)            -2.960525\n",
      "Critical Value (10%)           -2.619319\n",
      "dtype: float64\n"
     ]
    }
   ],
   "source": [
    "def adf_test(timeseries) :\n",
    "    rolmean = timeseries.rolling(window =52, center = False).mean()\n",
    "    rolstd = timeseries.rolling(window = 52, center = False).std()\n",
    "    #print(rolmean)\n",
    "    #print(rolstd)\n",
    "    orig = plt.plot(timeseries, color = \"blue\", label = 'Original')\n",
    "    mean = plt.plot(rolmean,color = 'red', label = 'Rolling mean')\n",
    "    std = plt.plot(rolstd, color = 'black', label = 'Rolling Std')\n",
    "    plt.xticks(rotation = 'vertical')\n",
    "    plt.legend(loc = 'best')\n",
    "    plt.title(\"Rolling mean and std dev.\")\n",
    "    plt.show()          \n",
    "    \n",
    "    print('Results of Dickey-Fuller Test : ')\n",
    "    dftest = adfuller(timeseries, autolag = 'AIC')\n",
    "    dfoutput = pd.Series(dftest[0:4], index = ['Test Statistic', 'p-value','#Lags Used', 'Number of Observations Used'])\n",
    "    for key, value in dftest[4].items() :\n",
    "        dfoutput['Critical Value (%s) '%key] = value\n",
    "    print(dfoutput)\n",
    "beer_new_df = pd.Series(inverted)\n",
    "adf_test(beer_new_df)\n",
    " "
   ]
  },
  {
   "cell_type": "code",
   "execution_count": null,
   "metadata": {},
   "outputs": [],
   "source": [
    "non Stationarity removed using differencing"
   ]
  }
 ],
 "metadata": {
  "kernelspec": {
   "display_name": "Python 3",
   "language": "python",
   "name": "python3"
  },
  "language_info": {
   "codemirror_mode": {
    "name": "ipython",
    "version": 3
   },
   "file_extension": ".py",
   "mimetype": "text/x-python",
   "name": "python",
   "nbconvert_exporter": "python",
   "pygments_lexer": "ipython3",
   "version": "3.7.6"
  }
 },
 "nbformat": 4,
 "nbformat_minor": 4
}
